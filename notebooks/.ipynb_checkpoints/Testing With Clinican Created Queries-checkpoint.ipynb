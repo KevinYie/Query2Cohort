{
 "cells": [
  {
   "cell_type": "code",
   "execution_count": 1,
   "metadata": {},
   "outputs": [
    {
     "name": "stderr",
     "output_type": "stream",
     "text": [
      "Using TensorFlow backend.\n"
     ]
    }
   ],
   "source": [
    "from transformers import BertTokenizer, BertModel\n",
    "import pandas as pd\n",
    "import numpy as np\n",
    "import matplotlib.pyplot as plt\n",
    "import seaborn as sns\n",
    "import json\n",
    "import re\n",
    "%matplotlib inline\n",
    "\n",
    "import torch\n",
    "from torch import nn\n",
    "\n",
    "from torch.utils.data import TensorDataset, DataLoader, RandomSampler, SequentialSampler\n",
    "from transformers import BertTokenizer, BertConfig\n",
    "\n",
    "from keras.preprocessing.sequence import pad_sequences\n",
    "from sklearn.model_selection import train_test_split\n",
    "\n",
    "import transformers\n",
    "from transformers import BertForTokenClassification, AdamW\n",
    "\n",
    "from tqdm import tqdm, trange"
   ]
  },
  {
   "cell_type": "markdown",
   "metadata": {},
   "source": [
    "# Creating Function for Inference"
   ]
  },
  {
   "cell_type": "code",
   "execution_count": 2,
   "metadata": {},
   "outputs": [],
   "source": [
    "model = torch.load(\"BERT.pth\")\n",
    "model.eval()\n",
    "\n",
    "tokenizer = BertTokenizer.from_pretrained('bert-base-cased', do_lower_case=False)\n",
    "\n",
    "# Creating conversion dictionary\n",
    "tag_values = ['exclude', 'include', ' ']\n",
    "tag_values.append(\"PAD\")\n",
    "tag2idx = {t:i for i, t in enumerate(tag_values)}\n",
    "\n",
    "def predict(query):\n",
    "    tokenized_sentence = tokenizer.encode(query)\n",
    "    input_ids = torch.tensor([tokenized_sentence]).cuda()\n",
    "\n",
    "    with torch.no_grad():\n",
    "        output = model(input_ids)\n",
    "    label_indices = np.argmax(output[0].to('cpu').numpy(), axis=2)\n",
    "\n",
    "    tokens = tokenizer.convert_ids_to_tokens(input_ids.to('cpu').numpy()[0])\n",
    "    new_tokens, new_labels = [], []\n",
    "    for token, label_idx in zip(tokens, label_indices[0]):\n",
    "        if token.startswith(\"##\"):\n",
    "            new_tokens[-1] = new_tokens[-1] + token[2:]\n",
    "        else:\n",
    "            new_labels.append(tag_values[label_idx])\n",
    "            new_tokens.append(token)\n",
    "    return {\"Tokens\": new_tokens, \"Labels\": new_labels}"
   ]
  },
  {
   "cell_type": "markdown",
   "metadata": {},
   "source": [
    "<br/><br/> "
   ]
  },
  {
   "cell_type": "markdown",
   "metadata": {},
   "source": [
    "# Interesting Cases"
   ]
  },
  {
   "cell_type": "markdown",
   "metadata": {},
   "source": [
    "### Criteria as adjectives are detected"
   ]
  },
  {
   "cell_type": "code",
   "execution_count": 20,
   "metadata": {},
   "outputs": [
    {
     "name": "stdout",
     "output_type": "stream",
     "text": [
      " \t[CLS]\n",
      " \tWhat\n",
      " \tpercentage\n",
      " \tof\n",
      "include\tjuvenile\n",
      "include\tpatients\n",
      " \thave\n",
      "include\tdiabetes\n",
      " \t?\n",
      " \t[SEP]\n"
     ]
    }
   ],
   "source": [
    "prediction = predict(\"What percentage of juvenile patients have diabetes?\")\n",
    "for label, token in zip(prediction[\"Labels\"], prediction[\"Tokens\"]):\n",
    "    print(\"{}\\t{}\".format(label, token))"
   ]
  },
  {
   "cell_type": "markdown",
   "metadata": {},
   "source": [
    "### Criteria as part of the question are detected "
   ]
  },
  {
   "cell_type": "code",
   "execution_count": 21,
   "metadata": {},
   "outputs": [
    {
     "name": "stdout",
     "output_type": "stream",
     "text": [
      " \t[CLS]\n",
      " \tWhat\n",
      " \tis\n",
      " \tthe\n",
      " \trate\n",
      " \tof\n",
      "include\theart\n",
      "include\tattacks\n",
      " \tamong\n",
      "include\telderly\n",
      " \tpatients\n",
      " \ttaking\n",
      "include\tclorotiazide\n",
      " \t[SEP]\n"
     ]
    }
   ],
   "source": [
    "prediction = predict(\"What is the rate of heart attacks among elderly patients taking clorotiazide\")\n",
    "for label, token in zip(prediction[\"Labels\"], prediction[\"Tokens\"]):\n",
    "    print(\"{}\\t{}\".format(label, token))"
   ]
  },
  {
   "cell_type": "markdown",
   "metadata": {},
   "source": [
    "### Typos are fine "
   ]
  },
  {
   "cell_type": "code",
   "execution_count": 22,
   "metadata": {},
   "outputs": [
    {
     "name": "stdout",
     "output_type": "stream",
     "text": [
      " \t[CLS]\n",
      " \tWhat\n",
      " \tis\n",
      " \tthe\n",
      " \trate\n",
      " \tof\n",
      "include\theart\n",
      "include\tattacks\n",
      " \tamong\n",
      "include\telderly\n",
      " \tpatients\n",
      " \ttaking\n",
      "include\tclorotiazide\n",
      " \t[SEP]\n"
     ]
    }
   ],
   "source": [
    "prediction = predict(\"What is the rate of heart attacks among elderly patients taking clorotiazide\")\n",
    "for label, token in zip(prediction[\"Labels\"], prediction[\"Tokens\"]):\n",
    "    print(\"{}\\t{}\".format(label, token))"
   ]
  },
  {
   "cell_type": "markdown",
   "metadata": {},
   "source": [
    "### Does not need to be in question format"
   ]
  },
  {
   "cell_type": "code",
   "execution_count": 23,
   "metadata": {
    "scrolled": true
   },
   "outputs": [
    {
     "name": "stdout",
     "output_type": "stream",
     "text": [
      " \t[CLS]\n",
      " \tCommon\n",
      " \tsymptoms\n",
      " \tfor\n",
      "include\tschitzophrenic\n",
      " \tpatients\n",
      " \t[SEP]\n"
     ]
    }
   ],
   "source": [
    "prediction = predict(\"Common symptoms for schitzophrenic patients\")\n",
    "for label, token in zip(prediction[\"Labels\"], prediction[\"Tokens\"]):\n",
    "    print(\"{}\\t{}\".format(label, token))"
   ]
  },
  {
   "cell_type": "markdown",
   "metadata": {},
   "source": [
    "### Can differentiate between inclusion and exclusion in complex examples"
   ]
  },
  {
   "cell_type": "code",
   "execution_count": 12,
   "metadata": {},
   "outputs": [
    {
     "name": "stdout",
     "output_type": "stream",
     "text": [
      " \t[CLS]\n",
      " \tHow\n",
      " \tcan\n",
      "include\thydroxychloroquine\n",
      " \tbe\n",
      " \tadministered\n",
      " \twithout\n",
      " \tcausing\n",
      "exclude\tvomiting\n",
      " \tor\n",
      " \tcreating\n",
      "exclude\tarrhythmia\n",
      "exclude\trisk\n",
      " \t?\n",
      " \t[SEP]\n"
     ]
    }
   ],
   "source": [
    "prediction = predict(\"How can hydroxychloroquine be administered without causing vomiting or creating arrhythmia risk?\")\n",
    "for label, token in zip(prediction[\"Labels\"], prediction[\"Tokens\"]):\n",
    "    print(\"{}\\t{}\".format(label, token))"
   ]
  },
  {
   "cell_type": "markdown",
   "metadata": {},
   "source": [
    "<br/><br/> "
   ]
  },
  {
   "cell_type": "markdown",
   "metadata": {},
   "source": [
    "# Interesting Failure Cases"
   ]
  },
  {
   "cell_type": "markdown",
   "metadata": {},
   "source": [
    "### Measurements sometimes mislabelled as criteria"
   ]
  },
  {
   "cell_type": "code",
   "execution_count": 29,
   "metadata": {},
   "outputs": [
    {
     "name": "stdout",
     "output_type": "stream",
     "text": [
      " \t[CLS]\n",
      "include\tSodium\n",
      "include\tlevels\n",
      " \tof\n",
      "include\tobese\n",
      " \tpatients\n",
      " \ttaking\n",
      "include\tmetformin\n",
      " \t[SEP]\n"
     ]
    }
   ],
   "source": [
    "prediction = predict(\"Sodium levels of obese patients taking metformin\")\n",
    "for label, token in zip(prediction[\"Labels\"], prediction[\"Tokens\"]):\n",
    "    print(\"{}\\t{}\".format(label, token))"
   ]
  },
  {
   "cell_type": "code",
   "execution_count": 31,
   "metadata": {},
   "outputs": [
    {
     "name": "stdout",
     "output_type": "stream",
     "text": [
      " \t[CLS]\n",
      "include\tAverage\n",
      "include\toxygen\n",
      "include\tlevels\n",
      " \tamong\n",
      "include\tadolescent\n",
      " \tpatients\n",
      " \twho\n",
      " \tuse\n",
      "include\tvapes\n",
      " \t[SEP]\n"
     ]
    }
   ],
   "source": [
    "prediction = predict(\"Average oxygen levels among adolescent patients who use vapes\")\n",
    "for label, token in zip(prediction[\"Labels\"], prediction[\"Tokens\"]):\n",
    "    print(\"{}\\t{}\".format(label, token))"
   ]
  },
  {
   "cell_type": "markdown",
   "metadata": {},
   "source": [
    "### Phrasing results in different ranges"
   ]
  },
  {
   "cell_type": "code",
   "execution_count": 17,
   "metadata": {},
   "outputs": [
    {
     "name": "stdout",
     "output_type": "stream",
     "text": [
      " \t[CLS]\n",
      " \tWhat\n",
      " \tis\n",
      " \tthe\n",
      " \tlikelihood\n",
      " \tof\n",
      "include\telderly\n",
      " \tpatients\n",
      " \twith\n",
      "include\thip\n",
      "include\treplacements\n",
      " \tnot\n",
      " \ttaking\n",
      "exclude\tadvil\n",
      " \t[SEP]\n"
     ]
    }
   ],
   "source": [
    "prediction = predict(\"What is the likelihood of elderly patients with hip replacements not taking advil\")\n",
    "for label, token in zip(prediction[\"Labels\"], prediction[\"Tokens\"]):\n",
    "    print(\"{}\\t{}\".format(label, token))"
   ]
  },
  {
   "cell_type": "code",
   "execution_count": 18,
   "metadata": {},
   "outputs": [
    {
     "name": "stdout",
     "output_type": "stream",
     "text": [
      " \t[CLS]\n",
      " \tWhat\n",
      " \tis\n",
      " \tthe\n",
      " \tlikelihood\n",
      " \tof\n",
      "include\telderly\n",
      " \tpatients\n",
      " \twith\n",
      "include\thip\n",
      "include\treplacements\n",
      " \tbut\n",
      " \tnot\n",
      "exclude\tprescribed\n",
      "exclude\tadvil\n",
      " \t[SEP]\n"
     ]
    }
   ],
   "source": [
    "prediction = predict(\"What is the likelihood of elderly patients with hip replacements but not prescribed advil\")\n",
    "for label, token in zip(prediction[\"Labels\"], prediction[\"Tokens\"]):\n",
    "    print(\"{}\\t{}\".format(label, token))"
   ]
  }
 ],
 "metadata": {
  "kernelspec": {
   "display_name": "Python 3",
   "language": "python",
   "name": "python3"
  },
  "language_info": {
   "codemirror_mode": {
    "name": "ipython",
    "version": 3
   },
   "file_extension": ".py",
   "mimetype": "text/x-python",
   "name": "python",
   "nbconvert_exporter": "python",
   "pygments_lexer": "ipython3",
   "version": "3.6.5"
  }
 },
 "nbformat": 4,
 "nbformat_minor": 2
}
